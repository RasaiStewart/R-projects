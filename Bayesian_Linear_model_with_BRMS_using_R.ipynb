{
  "nbformat": 4,
  "nbformat_minor": 0,
  "metadata": {
    "colab": {
      "provenance": [],
      "authorship_tag": "ABX9TyMDtBaNAURLJjm1qyCulHpF",
      "include_colab_link": true
    },
    "kernelspec": {
      "name": "ir",
      "display_name": "R"
    },
    "language_info": {
      "name": "R"
    }
  },
  "cells": [
    {
      "cell_type": "markdown",
      "metadata": {
        "id": "view-in-github",
        "colab_type": "text"
      },
      "source": [
        "<a href=\"https://colab.research.google.com/github/RasaiStewart/R-projects/blob/main/Bayesian_Linear_model_with_Bambi_and_BRMS_using_R.ipynb\" target=\"_parent\"><img src=\"https://colab.research.google.com/assets/colab-badge.svg\" alt=\"Open In Colab\"/></a>"
      ]
    },
    {
      "cell_type": "code",
      "execution_count": null,
      "metadata": {
        "id": "wKTq0ZNegC9h"
      },
      "outputs": [],
      "source": [
        "library(brms)\n",
        "library(haven)\n",
        "library(ggplot2)\n",
        "\n",
        "# Load the data from URL.\n",
        "audo_df <- haven::read_dta('https://github.com/scunning1975/mixtape/raw/master/auto.dta')\n",
        "\n",
        "# Specify and fit the brms model.\n",
        "model <- brm(\n",
        "    formulate = price ~ length + weight + headroom + mpg,\n",
        "    data = auto_df,\n",
        "    chains = 4,\n",
        "    iter = 2000\n",
        "    warm-up = 1000,\n",
        "    cores = parallel::detectors(),\n",
        "    control = list(adapt_delta = 0.95)\n",
        ")\n",
        "\n",
        "# Plot the posterior summaries.\n",
        "plot(model, vars = c(\"length\", \"weight\", \"headroom\", \"mpg\"))\n",
        "\n",
        "# Plot the trace.\n",
        "plot(model)\n",
        "\n",
        "# Summarise the model.\n",
        "summary(model)"
      ]
    }
  ]
}
