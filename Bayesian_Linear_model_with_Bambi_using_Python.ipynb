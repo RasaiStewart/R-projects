{
  "nbformat": 4,
  "nbformat_minor": 0,
  "metadata": {
    "colab": {
      "provenance": [],
      "authorship_tag": "ABX9TyPYWcgBT+Yael8ingfY25Fu",
      "include_colab_link": true
    },
    "kernelspec": {
      "name": "python3",
      "display_name": "Python 3"
    },
    "language_info": {
      "name": "python"
    }
  },
  "cells": [
    {
      "cell_type": "markdown",
      "metadata": {
        "id": "view-in-github",
        "colab_type": "text"
      },
      "source": [
        "<a href=\"https://colab.research.google.com/github/RasaiStewart/R-projects/blob/main/Bayesian_Linear_model_with_Bambi_using_Python.ipynb\" target=\"_parent\"><img src=\"https://colab.research.google.com/assets/colab-badge.svg\" alt=\"Open In Colab\"/></a>"
      ]
    },
    {
      "cell_type": "code",
      "execution_count": null,
      "metadata": {
        "id": "BGg_I2vldEdJ"
      },
      "outputs": [],
      "source": [
        "# I will be using an automobile data from Stata to perform bayesian linear regression."
      ]
    },
    {
      "cell_type": "code",
      "source": [
        "# First, I will import the necessary packages and github repositories."
      ],
      "metadata": {
        "id": "Qila9Ow2dmjb"
      },
      "execution_count": null,
      "outputs": []
    },
    {
      "cell_type": "code",
      "source": [
        "import pymc as pm\n",
        "import bambi as bmb\n",
        "import pandas as pd\n",
        "import arviz as az\n",
        "from bambi plots import plot_cap\n",
        "import matplotlib.pyplot as plt"
      ],
      "metadata": {
        "id": "-lp-2aTfdxUM"
      },
      "execution_count": null,
      "outputs": []
    },
    {
      "cell_type": "code",
      "source": [
        "auto_df = pd.read_st\n",
        "\n",
        "ata(\"https://github.com/scunning1975/mixtape/raw/master/auto.dta\")"
      ],
      "metadata": {
        "id": "XmG2KFK4eXFp"
      },
      "execution_count": null,
      "outputs": []
    },
    {
      "cell_type": "code",
      "source": [
        "auto_df.head()"
      ],
      "metadata": {
        "id": "e5Aa8HpZertY"
      },
      "execution_count": null,
      "outputs": []
    },
    {
      "cell_type": "code",
      "source": [
        "# Specify and fit the model.\n",
        "\n",
        "model = bmb.Model(\"price ~ length +weight + headroom +mpg\", auto_df)\n",
        "fitted = model.fit"
      ],
      "metadata": {
        "id": "AzBhB1MXezPf"
      },
      "execution_count": null,
      "outputs": []
    },
    {
      "cell_type": "code",
      "source": [
        "# Check posterior distribution and traces for convergence using the model summary. im particular r_hat."
      ],
      "metadata": {
        "id": "iKbHIeQjfPk5"
      },
      "execution_count": null,
      "outputs": []
    },
    {
      "cell_type": "code",
      "source": [
        "az.summarty(fitted)"
      ],
      "metadata": {
        "id": "dEIuz27YfV_M"
      },
      "execution_count": null,
      "outputs": []
    },
    {
      "cell_type": "code",
      "source": [],
      "metadata": {
        "id": "Bx0u3PJkfqLI"
      },
      "execution_count": null,
      "outputs": []
    }
  ]
}